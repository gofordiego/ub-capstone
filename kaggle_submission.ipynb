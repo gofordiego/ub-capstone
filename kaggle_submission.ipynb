{
 "cells": [
  {
   "cell_type": "code",
   "execution_count": null,
   "metadata": {
    "_cell_guid": "b1076dfc-b9ad-4769-8c92-a6c4dae69d19",
    "_uuid": "8f2839f25d086af736a60e9eeb907d3b93b6e0e5",
    "execution": {
     "iopub.execute_input": "2025-07-13T16:19:01.526052Z",
     "iopub.status.busy": "2025-07-13T16:19:01.525788Z",
     "iopub.status.idle": "2025-07-13T16:19:03.715224Z",
     "shell.execute_reply": "2025-07-13T16:19:03.714464Z",
     "shell.execute_reply.started": "2025-07-13T16:19:01.526026Z"
    },
    "papermill": {
     "duration": 1.723271,
     "end_time": "2025-07-11T17:27:35.933496",
     "exception": false,
     "start_time": "2025-07-11T17:27:34.210225",
     "status": "completed"
    },
    "tags": [],
    "trusted": true
   },
   "outputs": [],
   "source": [
    "import numpy as np\n",
    "import pandas as pd\n",
    "\n",
    "# Input data files are available in the read-only \"../input/\" directory\n",
    "# For example, running this (by clicking run or pressing Shift+Enter) will list all files under the input directory\n",
    "\n",
    "import os\n",
    "for dirname, _, filenames in os.walk('/kaggle/input'):\n",
    "    for filename in filenames:\n",
    "        print(os.path.join(dirname, filename))\n",
    "\n",
    "# You can write up to 20GB to the current directory (/kaggle/working/) that gets preserved as output when you create a version using \"Save & Run All\" \n",
    "# You can also write temporary files to /kaggle/temp/, but they won't be saved outside of the current session"
   ]
  },
  {
   "cell_type": "code",
   "execution_count": null,
   "metadata": {
    "execution": {
     "iopub.execute_input": "2025-07-13T16:19:29.292426Z",
     "iopub.status.busy": "2025-07-13T16:19:29.291883Z",
     "iopub.status.idle": "2025-07-13T16:19:29.517449Z",
     "shell.execute_reply": "2025-07-13T16:19:29.516685Z",
     "shell.execute_reply.started": "2025-07-13T16:19:29.292396Z"
    },
    "papermill": {
     "duration": 0.289596,
     "end_time": "2025-07-11T17:27:36.226271",
     "exception": false,
     "start_time": "2025-07-11T17:27:35.936675",
     "status": "completed"
    },
    "tags": [],
    "trusted": true
   },
   "outputs": [],
   "source": [
    "sample_target_df = pd.read_csv('/kaggle/input/2025-bike-availability-prediction-summer-edition/sample_submission_2025.csv')\n",
    "sample_target_df.head()"
   ]
  },
  {
   "cell_type": "code",
   "execution_count": null,
   "metadata": {
    "execution": {
     "iopub.execute_input": "2025-07-13T16:19:41.169369Z",
     "iopub.status.busy": "2025-07-13T16:19:41.169071Z",
     "iopub.status.idle": "2025-07-13T16:19:41.808670Z",
     "shell.execute_reply": "2025-07-13T16:19:41.808045Z",
     "shell.execute_reply.started": "2025-07-13T16:19:41.169339Z"
    },
    "papermill": {
     "duration": 0.791123,
     "end_time": "2025-07-11T17:27:37.020415",
     "exception": false,
     "start_time": "2025-07-11T17:27:36.229292",
     "status": "completed"
    },
    "tags": [],
    "trusted": true
   },
   "outputs": [],
   "source": [
    "sample_features_df = pd.read_csv('/kaggle/input/2025-bike-availability-prediction-summer-edition/metadata_sample_submission_2025.csv')\n",
    "sample_features_df = sample_features_df.rename(columns={\"ctx-4\": \"ctx_4\", \"ctx-3\": \"ctx_3\", \"ctx-2\": \"ctx_2\", \"ctx-1\": \"ctx_1\"})\n",
    "print(sample_features_df.shape)\n",
    "sample_features_df.head()"
   ]
  },
  {
   "cell_type": "code",
   "execution_count": null,
   "metadata": {
    "execution": {
     "iopub.execute_input": "2025-07-13T16:20:13.158958Z",
     "iopub.status.busy": "2025-07-13T16:20:13.158682Z",
     "iopub.status.idle": "2025-07-13T16:20:17.022057Z",
     "shell.execute_reply": "2025-07-13T16:20:17.021263Z",
     "shell.execute_reply.started": "2025-07-13T16:20:13.158936Z"
    },
    "papermill": {
     "duration": 4.391367,
     "end_time": "2025-07-11T17:27:41.415128",
     "exception": false,
     "start_time": "2025-07-11T17:27:37.023761",
     "status": "completed"
    },
    "tags": [],
    "trusted": true
   },
   "outputs": [],
   "source": [
    "historical_df = pd.read_csv('/kaggle/input/historical-metrics-2024-2024-csv/historical_metrics_FINAL_2023-2024.csv')\n",
    "print(historical_df.shape)\n",
    "\n",
    "# Remove outliers\n",
    "historical_df = historical_df.query(\"ctx_4 >= 0 and ctx_4 <= 1 and ctx_3 >= 0 and ctx_3 <= 1 and ctx_2 >= 0 and ctx_2 <= 1 and ctx_1 >= 0 and ctx_1 <= 1 and percentage_docks_available >= 0 and percentage_docks_available <= 1\")\n",
    "print(\"historical_df\", historical_df.shape)\n",
    "\n",
    "historical_df.head()\n",
    "\n",
    "# historical_df = historical_df.head(100)"
   ]
  },
  {
   "cell_type": "code",
   "execution_count": null,
   "metadata": {
    "execution": {
     "iopub.execute_input": "2025-07-13T16:20:32.077215Z",
     "iopub.status.busy": "2025-07-13T16:20:32.076935Z",
     "iopub.status.idle": "2025-07-13T16:20:32.266088Z",
     "shell.execute_reply": "2025-07-13T16:20:32.265329Z",
     "shell.execute_reply.started": "2025-07-13T16:20:32.077191Z"
    },
    "trusted": true
   },
   "outputs": [],
   "source": [
    "stations_df = pd.read_parquet('/kaggle/input/stations-df/stations_df.parquet')\n",
    "print(\"stations_df\", stations_df.shape)\n",
    "stations_df.head()"
   ]
  },
  {
   "cell_type": "code",
   "execution_count": null,
   "metadata": {
    "execution": {
     "iopub.execute_input": "2025-07-13T16:20:42.958503Z",
     "iopub.status.busy": "2025-07-13T16:20:42.958129Z",
     "iopub.status.idle": "2025-07-13T16:20:42.965791Z",
     "shell.execute_reply": "2025-07-13T16:20:42.964923Z",
     "shell.execute_reply.started": "2025-07-13T16:20:42.958480Z"
    },
    "trusted": true
   },
   "outputs": [],
   "source": [
    "def get_holidays_df() -> pd.DataFrame:\n",
    "    holidays = ['2020-01-01', '2020-01-06', '2020-04-10', '2020-04-13', '2020-05-01', '2020-06-01', '2020-06-24', '2020-08-15', '2020-09-11', '2020-09-24', '2020-10-12', '2020-11-01', '2020-12-06', '2020-12-08', '2020-12-25', '2020-12-26', '2021-01-01', '2021-01-06', '2021-04-02', '2021-04-05', '2021-05-01', '2021-05-24', '2021-06-24', '2021-08-15', '2021-09-11', '2021-09-24', '2021-10-12', '2021-11-01', '2021-12-06', '2021-12-08', '2021-12-25', '2021-12-26', '2022-01-01', '2022-01-06', '2022-04-15', '2022-04-18', '2022-05-01', '2022-06-06', '2022-06-24', '2022-08-15', '2022-09-11', '2022-09-24', '2022-10-12', '2022-11-01', '2022-12-06', '2022-12-08', '2022-12-25', '2022-12-26', '2023-01-01', '2023-01-06', '2023-04-07', '2023-04-10', '2023-05-01', '2023-06-05', '2023-06-24', '2023-08-15', '2023-09-11', '2023-09-24', '2023-10-12', '2023-11-01', '2023-12-06', '2023-12-08', '2023-12-25', '2023-12-26', '2024-01-01', '2024-01-06', '2024-03-29', '2024-04-01', '2024-05-01', '2024-05-20', '2024-06-24', '2024-08-15', '2024-09-11', '2024-09-24', '2024-10-12', '2024-11-01', '2024-12-06', '2024-12-08', '2024-12-25', '2024-12-26', '2025-01-01', '2025-01-06', '2025-04-18', '2025-04-21', '2025-05-01', '2025-06-09', '2025-06-24', '2025-08-15', '2025-09-11', '2025-09-24', '2025-10-12', '2025-11-01', '2025-12-06', '2025-12-08', '2025-12-25', '2025-12-26']\n",
    "    year_col: list[int] = []\n",
    "    month_col: list[int]  = []\n",
    "    day_col: list[int]  = []\n",
    "    for formatted_date in holidays:\n",
    "        year, month, day = formatted_date.split('-')\n",
    "        year_col.append(int(year))\n",
    "        month_col.append(int(month))\n",
    "        day_col.append(int(day))\n",
    "    holidays_df = pd.DataFrame(data={\"year\": year_col, \"month\": month_col, \"day\": day_col})\n",
    "    holidays_df[\"is_holiday\"] = True\n",
    "    return holidays_df"
   ]
  },
  {
   "cell_type": "code",
   "execution_count": null,
   "metadata": {
    "execution": {
     "iopub.execute_input": "2025-07-13T16:20:57.530152Z",
     "iopub.status.busy": "2025-07-13T16:20:57.529865Z",
     "iopub.status.idle": "2025-07-13T16:21:30.810959Z",
     "shell.execute_reply": "2025-07-13T16:21:30.810108Z",
     "shell.execute_reply.started": "2025-07-13T16:20:57.530128Z"
    },
    "trusted": true
   },
   "outputs": [],
   "source": [
    "import calendar\n",
    "from datetime import datetime, timezone\n",
    "from zoneinfo import ZoneInfo\n",
    "\n",
    "def enrich_input(input_df: pd.DataFrame) -> pd.DataFrame:\n",
    "    if \"year\" not in input_df.columns:\n",
    "        input_df[\"year\"] = 2025\n",
    "    elif \"timetuple\" in input_df.columns:\n",
    "        raise RuntimeError(\"Reset the input df as it's already been enriched.\")\n",
    "\n",
    "    # Adjust time to timezone and add day_of_week and day_of_year_norm as features.\n",
    "    madrid_tz = ZoneInfo(\"Europe/Madrid\")\n",
    "\n",
    "    input_df[\"timetuple\"] = input_df.apply(\n",
    "        lambda row: datetime(int(row[\"year\"]), int(row[\"month\"]), int(row[\"day\"]), int(row[\"hour\"]), tzinfo=timezone.utc).astimezone(tz=madrid_tz).timetuple(), axis=1\n",
    "    )\n",
    "    input_df.drop(columns=[\"year\", \"month\", \"day\", \"hour\"], inplace=True)\n",
    "    input_df[\"day_of_week\"] = input_df[\"timetuple\"].apply(\n",
    "        lambda timetuple: timetuple.tm_wday\n",
    "    )\n",
    "    input_df[\"day_of_year_norm\"] = input_df[\"timetuple\"].apply(\n",
    "        lambda timetuple: timetuple.tm_yday / (366 if calendar.isleap(timetuple.tm_year) else 365)\n",
    "    )\n",
    "    input_df[\"year\"] = input_df[\"timetuple\"].apply(\n",
    "        lambda timetuple: timetuple.tm_year\n",
    "    )\n",
    "    input_df[\"month\"] = input_df[\"timetuple\"].apply(\n",
    "        lambda timetuple: timetuple.tm_mon\n",
    "    )\n",
    "    input_df[\"day\"] = input_df[\"timetuple\"].apply(\n",
    "        lambda timetuple: timetuple.tm_mday\n",
    "    )\n",
    "    input_df[\"hour\"] = input_df[\"timetuple\"].apply(\n",
    "        lambda timetuple: timetuple.tm_hour\n",
    "    )\n",
    "\n",
    "    # Add is_day_off feature for holidays and weekends\n",
    "    holidays_df = get_holidays_df()\n",
    "    input_df = pd.merge(input_df, holidays_df, how=\"left\", on=[\"year\", \"month\", \"day\"])\n",
    "    input_df[\"is_holiday\"] = input_df[\"is_holiday\"].fillna(False)\n",
    "    input_df[\"is_day_off\"] = (input_df[\"day_of_week\"].isin([5,6]) | input_df[\"is_holiday\"]).astype(int)\n",
    "\n",
    "    # Add stations features\n",
    "    input_df = pd.merge(input_df, stations_df, how=\"left\", on=[\"station_id\"])\n",
    "\n",
    "    return input_df\n",
    "\n",
    "historical_df = enrich_input(historical_df)\n",
    "\n",
    "historical_df.head()"
   ]
  },
  {
   "cell_type": "code",
   "execution_count": null,
   "metadata": {
    "execution": {
     "iopub.execute_input": "2025-07-13T16:21:58.233468Z",
     "iopub.status.busy": "2025-07-13T16:21:58.233127Z",
     "iopub.status.idle": "2025-07-13T16:21:58.267386Z",
     "shell.execute_reply": "2025-07-13T16:21:58.266712Z",
     "shell.execute_reply.started": "2025-07-13T16:21:58.233444Z"
    },
    "trusted": true
   },
   "outputs": [],
   "source": [
    "historical_df.query(\"year == 2024 and month == 11 and day == 1 and hour == 1\").head()"
   ]
  },
  {
   "cell_type": "code",
   "execution_count": null,
   "metadata": {
    "execution": {
     "iopub.execute_input": "2025-07-13T16:31:21.303215Z",
     "iopub.status.busy": "2025-07-13T16:31:21.302934Z",
     "iopub.status.idle": "2025-07-13T16:31:26.595349Z",
     "shell.execute_reply": "2025-07-13T16:31:26.594541Z",
     "shell.execute_reply.started": "2025-07-13T16:31:21.303195Z"
    },
    "trusted": true
   },
   "outputs": [],
   "source": [
    "sample_features_df = enrich_input(sample_features_df)\n",
    "print(\"Enriched sample features:\", sample_features_df.shape)\n",
    "sample_features_df.head()"
   ]
  },
  {
   "cell_type": "code",
   "execution_count": null,
   "metadata": {
    "execution": {
     "iopub.execute_input": "2025-07-13T16:37:30.445317Z",
     "iopub.status.busy": "2025-07-13T16:37:30.445014Z",
     "iopub.status.idle": "2025-07-13T16:37:30.449313Z",
     "shell.execute_reply": "2025-07-13T16:37:30.448470Z",
     "shell.execute_reply.started": "2025-07-13T16:37:30.445285Z"
    },
    "trusted": true
   },
   "outputs": [],
   "source": [
    "# sample_features_df[[\"station_id\"]].value_counts()"
   ]
  },
  {
   "cell_type": "code",
   "execution_count": null,
   "metadata": {
    "execution": {
     "iopub.execute_input": "2025-07-14T17:13:39.919310Z",
     "iopub.status.busy": "2025-07-14T17:13:39.919042Z",
     "iopub.status.idle": "2025-07-14T17:13:41.932452Z",
     "shell.execute_reply": "2025-07-14T17:13:41.931050Z",
     "shell.execute_reply.started": "2025-07-14T17:13:39.919287Z"
    },
    "papermill": {
     "duration": 1.664687,
     "end_time": "2025-07-11T17:27:43.108414",
     "exception": false,
     "start_time": "2025-07-11T17:27:41.443727",
     "status": "completed"
    },
    "tags": [],
    "trusted": true
   },
   "outputs": [],
   "source": [
    "from sklearn.model_selection import train_test_split\n",
    "\n",
    "feature_columns = ['angle_center', 'dist_center_norm_minimax', 'is_day_off', 'ctx_4', 'ctx_3', 'ctx_2', 'ctx_1']\n",
    "\n",
    "X = historical_df[feature_columns]\n",
    "y = historical_df[\"percentage_docks_available\"]\n",
    "\n",
    "# Split in train and test sets\n",
    "X_train, X_test, y_train, y_test = train_test_split(X, y, test_size=0.8, random_state=42)\n",
    "\n",
    "X_test = sample_features_df[feature_columns]\n",
    "y_test = sample_target_df[\"percentage_docks_available\"]\n",
    "\n",
    "print(f\"Training set: {X_train.shape[0]} samples\")\n",
    "\n",
    "print(f\"Training target set: {y_test.shape[0]} samples\")\n",
    "\n",
    "print(f\"Test set: {X_test.shape[0]} samples\")\n",
    "\n",
    "print(f\"Test target set: {y_test.shape[0]} samples\")\n",
    "\n",
    "print(f\"% training: {X_train.shape[0]/len(historical_df)*100:.1f}%\")\n",
    "\n",
    "print(f\"% test: {X_test.shape[0]/len(historical_df)*100:.1f}%\")"
   ]
  },
  {
   "cell_type": "code",
   "execution_count": null,
   "metadata": {
    "execution": {
     "iopub.execute_input": "2025-07-13T16:22:48.891932Z",
     "iopub.status.busy": "2025-07-13T16:22:48.891436Z",
     "iopub.status.idle": "2025-07-13T16:22:48.904774Z",
     "shell.execute_reply": "2025-07-13T16:22:48.903896Z",
     "shell.execute_reply.started": "2025-07-13T16:22:48.891906Z"
    },
    "papermill": {
     "duration": 0.015615,
     "end_time": "2025-07-11T17:27:43.127536",
     "exception": false,
     "start_time": "2025-07-11T17:27:43.111921",
     "status": "completed"
    },
    "tags": [],
    "trusted": true
   },
   "outputs": [],
   "source": [
    "X_train.head()"
   ]
  },
  {
   "cell_type": "code",
   "execution_count": null,
   "metadata": {
    "execution": {
     "iopub.execute_input": "2025-07-13T16:32:25.780906Z",
     "iopub.status.busy": "2025-07-13T16:32:25.780585Z",
     "iopub.status.idle": "2025-07-13T16:32:25.786875Z",
     "shell.execute_reply": "2025-07-13T16:32:25.786138Z",
     "shell.execute_reply.started": "2025-07-13T16:32:25.780883Z"
    },
    "papermill": {
     "duration": 0.012154,
     "end_time": "2025-07-11T17:27:43.143317",
     "exception": false,
     "start_time": "2025-07-11T17:27:43.131163",
     "status": "completed"
    },
    "tags": [],
    "trusted": true
   },
   "outputs": [],
   "source": [
    "y_train.head()"
   ]
  },
  {
   "cell_type": "code",
   "execution_count": null,
   "metadata": {
    "execution": {
     "iopub.execute_input": "2025-07-13T16:32:34.543936Z",
     "iopub.status.busy": "2025-07-13T16:32:34.543366Z",
     "iopub.status.idle": "2025-07-13T16:32:34.550026Z",
     "shell.execute_reply": "2025-07-13T16:32:34.549184Z",
     "shell.execute_reply.started": "2025-07-13T16:32:34.543910Z"
    },
    "trusted": true
   },
   "outputs": [],
   "source": [
    "y_test.head()"
   ]
  },
  {
   "cell_type": "code",
   "execution_count": null,
   "metadata": {
    "execution": {
     "iopub.execute_input": "2025-07-13T17:30:07.103567Z",
     "iopub.status.busy": "2025-07-13T17:30:07.102979Z",
     "iopub.status.idle": "2025-07-13T17:31:14.165205Z",
     "shell.execute_reply": "2025-07-13T17:31:14.164209Z",
     "shell.execute_reply.started": "2025-07-13T17:30:07.103511Z"
    },
    "papermill": {
     "duration": 0.703989,
     "end_time": "2025-07-11T17:27:43.851000",
     "exception": false,
     "start_time": "2025-07-11T17:27:43.147011",
     "status": "completed"
    },
    "tags": [],
    "trusted": true
   },
   "outputs": [],
   "source": [
    "from sklearn.ensemble import GradientBoostingRegressor\n",
    "\n",
    "gbr_model = GradientBoostingRegressor(n_estimators=100, learning_rate=0.1, max_depth=3, random_state=42)\n",
    "\n",
    "gbr_model.fit(X_train, y_train)\n",
    "\n",
    "y_pred = gbr_model.predict(X_test)"
   ]
  },
  {
   "cell_type": "code",
   "execution_count": null,
   "metadata": {
    "execution": {
     "iopub.execute_input": "2025-07-13T17:31:18.469937Z",
     "iopub.status.busy": "2025-07-13T17:31:18.469634Z",
     "iopub.status.idle": "2025-07-13T17:31:18.482448Z",
     "shell.execute_reply": "2025-07-13T17:31:18.481593Z",
     "shell.execute_reply.started": "2025-07-13T17:31:18.469915Z"
    },
    "papermill": {
     "duration": 0.034777,
     "end_time": "2025-07-11T17:27:43.891586",
     "exception": false,
     "start_time": "2025-07-11T17:27:43.856809",
     "status": "completed"
    },
    "tags": [],
    "trusted": true
   },
   "outputs": [],
   "source": [
    "import numpy as np\n",
    "from sklearn.metrics import r2_score, mean_squared_error, mean_absolute_error\n",
    "\n",
    "mse = mean_squared_error(y_test, y_pred)\n",
    "rmse = np.sqrt(mse)\n",
    "mae = mean_absolute_error(y_test, y_pred)\n",
    "r2 = r2_score(y_test, y_pred)\n",
    "\n",
    "print(\"Mean Squared Error: \", mse)\n",
    "print(\"Root Mean Squared Error: \", rmse)\n",
    "print(\"Mean Absolute Error: \", mae)\n",
    "print(\"R2 score: \", r2)"
   ]
  },
  {
   "cell_type": "code",
   "execution_count": null,
   "metadata": {
    "execution": {
     "iopub.execute_input": "2025-07-13T16:23:13.408170Z",
     "iopub.status.busy": "2025-07-13T16:23:13.407878Z",
     "iopub.status.idle": "2025-07-13T16:23:13.441006Z",
     "shell.execute_reply": "2025-07-13T16:23:13.440344Z",
     "shell.execute_reply.started": "2025-07-13T16:23:13.408145Z"
    },
    "papermill": {
     "duration": 0.016977,
     "end_time": "2025-07-11T17:27:43.912462",
     "exception": false,
     "start_time": "2025-07-11T17:27:43.895485",
     "status": "completed"
    },
    "tags": [],
    "trusted": true
   },
   "outputs": [],
   "source": [
    "results_df = pd.DataFrame(y_pred).reset_index().rename(columns={0:\"percentage_docks_available\"})\n",
    "print(f\"{results_df.min()=} {results_df.max()=}\")\n",
    "results_df.head()"
   ]
  },
  {
   "cell_type": "code",
   "execution_count": null,
   "metadata": {
    "execution": {
     "iopub.execute_input": "2025-07-13T16:29:50.638264Z",
     "iopub.status.busy": "2025-07-13T16:29:50.637992Z",
     "iopub.status.idle": "2025-07-13T16:29:50.659551Z",
     "shell.execute_reply": "2025-07-13T16:29:50.658877Z",
     "shell.execute_reply.started": "2025-07-13T16:29:50.638245Z"
    },
    "trusted": true
   },
   "outputs": [],
   "source": [
    "print(\"Total predictions:\", len(results_df))\n",
    "print(\"Total < 0:\", len(results_df.query(\"percentage_docks_available < 0\")))\n",
    "print(\"Total > 1:\", len(results_df.query(\"percentage_docks_available > 1\")))"
   ]
  },
  {
   "cell_type": "code",
   "execution_count": null,
   "metadata": {
    "execution": {
     "iopub.execute_input": "2025-07-11T17:27:43.922043Z",
     "iopub.status.busy": "2025-07-11T17:27:43.921417Z",
     "iopub.status.idle": "2025-07-11T17:27:44.547516Z",
     "shell.execute_reply": "2025-07-11T17:27:44.546440Z"
    },
    "papermill": {
     "duration": 0.632148,
     "end_time": "2025-07-11T17:27:44.549218",
     "exception": false,
     "start_time": "2025-07-11T17:27:43.917070",
     "status": "completed"
    },
    "tags": []
   },
   "outputs": [],
   "source": [
    "results_df.to_csv(\"submission.csv\", index=False)"
   ]
  }
 ],
 "metadata": {
  "kaggle": {
   "accelerator": "none",
   "dataSources": [
    {
     "databundleVersionId": 12692867,
     "isSourceIdPinned": false,
     "sourceId": 105280,
     "sourceType": "competition"
    },
    {
     "datasetId": 7848551,
     "sourceId": 12442053,
     "sourceType": "datasetVersion"
    },
    {
     "datasetId": 7848928,
     "sourceId": 12442664,
     "sourceType": "datasetVersion"
    },
    {
     "datasetId": 7859329,
     "sourceId": 12458915,
     "sourceType": "datasetVersion"
    },
    {
     "isSourceIdPinned": true,
     "modelId": 399586,
     "modelInstanceId": 379718,
     "sourceId": 470702,
     "sourceType": "modelInstanceVersion"
    }
   ],
   "dockerImageVersionId": 31089,
   "isGpuEnabled": false,
   "isInternetEnabled": false,
   "language": "python",
   "sourceType": "notebook"
  },
  "kernelspec": {
   "display_name": "Python 3",
   "language": "python",
   "name": "python3"
  },
  "language_info": {
   "codemirror_mode": {
    "name": "ipython",
    "version": 3
   },
   "file_extension": ".py",
   "mimetype": "text/x-python",
   "name": "python",
   "nbconvert_exporter": "python",
   "pygments_lexer": "ipython3",
   "version": "3.11.13"
  },
  "papermill": {
   "default_parameters": {},
   "duration": 15.374571,
   "end_time": "2025-07-11T17:27:45.171810",
   "environment_variables": {},
   "exception": null,
   "input_path": "__notebook__.ipynb",
   "output_path": "__notebook__.ipynb",
   "parameters": {},
   "start_time": "2025-07-11T17:27:29.797239",
   "version": "2.6.0"
  }
 },
 "nbformat": 4,
 "nbformat_minor": 4
}
